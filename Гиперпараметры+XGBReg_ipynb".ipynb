{
  "nbformat": 4,
  "nbformat_minor": 0,
  "metadata": {
    "colab": {
      "name": "Гиперпараметры+XGBReg.ipynb\"",
      "provenance": [],
      "include_colab_link": true
    },
    "kernelspec": {
      "name": "python3",
      "display_name": "Python 3"
    },
    "language_info": {
      "name": "python"
    }
  },
  "cells": [
    {
      "cell_type": "markdown",
      "metadata": {
        "id": "view-in-github",
        "colab_type": "text"
      },
      "source": [
        "<a href=\"https://colab.research.google.com/github/alik220/XGBRegressor/blob/main/%D0%93%D0%B8%D0%BF%D0%B5%D1%80%D0%BF%D0%B0%D1%80%D0%B0%D0%BC%D0%B5%D1%82%D1%80%D1%8B%2BXGBReg_ipynb%22.ipynb\" target=\"_parent\"><img src=\"https://colab.research.google.com/assets/colab-badge.svg\" alt=\"Open In Colab\"/></a>"
      ]
    },
    {
      "cell_type": "code",
      "metadata": {
        "colab": {
          "base_uri": "https://localhost:8080/"
        },
        "id": "Nvr5kOeSe-hx",
        "outputId": "cf935015-7bf4-4d7e-d28b-a68e889c3993"
      },
      "source": [
        "import pandas as pd\n",
        "import numpy as np\n",
        "from sklearn import preprocessing\n",
        "from google.colab import files\n",
        "import pandas as pd\n",
        "import numpy as np\n",
        "from sklearn.ensemble import RandomForestRegressor\n",
        "from xgboost import XGBRegressor\n",
        "from lightgbm import LGBMRegressor\n",
        "from hyperopt import hp, tpe, space_eval\n",
        "from hyperopt.fmin import fmin\n",
        "from sklearn.model_selection import cross_val_score\n",
        "import scipy.stats as st\n",
        "from sklearn.metrics import mean_squared_log_error, make_scorer\n",
        "from google.colab import drive\n",
        "from sklearn.ensemble import RandomForestClassifier\n",
        "from sklearn.model_selection import GridSearchCV\n",
        "drive.mount('/content/drive')"
      ],
      "execution_count": null,
      "outputs": [
        {
          "output_type": "stream",
          "name": "stdout",
          "text": [
            "Mounted at /content/drive\n"
          ]
        }
      ]
    },
    {
      "cell_type": "code",
      "metadata": {
        "id": "ErNg-sg4jdVU"
      },
      "source": [
        "nrows = 1000000\n",
        "df = pd.read_csv('drive/MyDrive/train.csv',nrows=nrows)"
      ],
      "execution_count": null,
      "outputs": []
    },
    {
      "cell_type": "markdown",
      "metadata": {
        "id": "ecsfI8DLur5k"
      },
      "source": [
        "# пространство гиперпараметров"
      ]
    },
    {
      "cell_type": "code",
      "metadata": {
        "id": "dwOrUomhpWDw"
      },
      "source": [
        "\n",
        "space4rf = {\n",
        "    'max_depth': hp.choice('max_depth', range(5,15)),\n",
        "    'max_features': hp.choice('max_features', ['sqrt', 'log2']),\n",
        "    'n_estimators': hp.choice('n_estimators', range(100,1000, 100))\n",
        "}\n",
        "xgb_space = {\n",
        "            'max_depth': hp.choice('x_max_depth',[2,3,4,5,6]),\n",
        "            'min_child_weight':hp.choice('x_min_child_weight',np.round(np.arange(0.0,0.2,0.01),5)),\n",
        "            'learning_rate':hp.choice('x_learning_rate',np.round(np.arange(0.005,0.3,0.01),5)),\n",
        "            'subsample':hp.choice('x_subsample',np.round(np.arange(0.1,1.0,0.05),5)),\n",
        "            'colsample_bylevel':hp.choice('x_colsample_bylevel',np.round(np.arange(0.1,1.0,0.05),5)),\n",
        "            'colsample_bytree':hp.choice('x_colsample_bytree',np.round(np.arange(0.1,1.0,0.05),5)),\n",
        "            'n_estimators':hp.choice('x_n_estimators',np.arange(100, 300, 50))\n",
        "            }"
      ],
      "execution_count": null,
      "outputs": []
    },
    {
      "cell_type": "markdown",
      "metadata": {
        "id": "f2m4abOruxch"
      },
      "source": [
        "# Параметры и ввод моделей"
      ]
    },
    {
      "cell_type": "code",
      "metadata": {
        "id": "USN6W4SfecZX"
      },
      "source": [
        "train = pd.read_csv('drive/MyDrive/train.csv', nrows=nrows)\n",
        "y_train = train['Demanda_uni_equil']\n",
        "train.drop('Demanda_uni_equil', axis=1, inplace=True)\n",
        "rfr = RandomForestRegressor()"
      ],
      "execution_count": null,
      "outputs": []
    },
    {
      "cell_type": "code",
      "metadata": {
        "id": "fxHPgdAGYli6"
      },
      "source": [
        "parametrs = { 'n_estimators': range (100, 150, 50),\n",
        "             'max_features' : ['sqrt'],\n",
        "              'max_depth': [14, 15, 16, None],\n",
        "              'min_samples_leaf': range (1,2),\n",
        "              'min_samples_split': range (2,4)}"
      ],
      "execution_count": null,
      "outputs": []
    },
    {
      "cell_type": "code",
      "metadata": {
        "colab": {
          "base_uri": "https://localhost:8080/"
        },
        "id": "jZAr77v19ihw",
        "outputId": "1686e491-7abf-4837-82e8-43fdb40cc44b"
      },
      "source": [
        "grid.best_params_ #лучшие параметры"
      ],
      "execution_count": null,
      "outputs": [
        {
          "output_type": "execute_result",
          "data": {
            "text/plain": [
              "{'max_depth': 15,\n",
              " 'max_features': 'sqrt',\n",
              " 'min_samples_leaf': 1,\n",
              " 'min_samples_split': 3,\n",
              " 'n_estimators': 100}"
            ]
          },
          "metadata": {},
          "execution_count": 95
        }
      ]
    },
    {
      "cell_type": "markdown",
      "metadata": {
        "id": "l_NswJNN9osh"
      },
      "source": [
        "#Обучение моделей"
      ]
    },
    {
      "cell_type": "code",
      "metadata": {
        "id": "E1kIg2zuYmnY",
        "colab": {
          "base_uri": "https://localhost:8080/"
        },
        "outputId": "2abff5e1-ff19-44ae-8351-b534cb7cc1e1"
      },
      "source": [
        "grid = GridSearchCV(rfr, parametrs, cv=5)\n",
        "grid.fit(train, y_train)"
      ],
      "execution_count": null,
      "outputs": [
        {
          "output_type": "execute_result",
          "data": {
            "text/plain": [
              "GridSearchCV(cv=5, error_score=nan,\n",
              "             estimator=RandomForestRegressor(bootstrap=True, ccp_alpha=0.0,\n",
              "                                             criterion='mse', max_depth=None,\n",
              "                                             max_features='auto',\n",
              "                                             max_leaf_nodes=None,\n",
              "                                             max_samples=None,\n",
              "                                             min_impurity_decrease=0.0,\n",
              "                                             min_impurity_split=None,\n",
              "                                             min_samples_leaf=1,\n",
              "                                             min_samples_split=2,\n",
              "                                             min_weight_fraction_leaf=0.0,\n",
              "                                             n_estimators=100, n_jobs=None,\n",
              "                                             oob_score=False, random_state=None,\n",
              "                                             verbose=0, warm_start=False),\n",
              "             iid='deprecated', n_jobs=None,\n",
              "             param_grid={'max_depth': range(14, 16), 'max_features': ['sqrt'],\n",
              "                         'min_samples_leaf': range(1, 2),\n",
              "                         'min_samples_split': range(2, 4),\n",
              "                         'n_estimators': range(100, 150, 50)},\n",
              "             pre_dispatch='2*n_jobs', refit=True, return_train_score=False,\n",
              "             scoring=None, verbose=0)"
            ]
          },
          "metadata": {},
          "execution_count": 81
        }
      ]
    },
    {
      "cell_type": "code",
      "metadata": {
        "id": "ALeM_osmYmEy"
      },
      "source": [
        "XGBR = XGBRegressor(random_state=42,silent=True)\n",
        "xgb = GridSearchCV(XGBR, parametrs, cv=5)"
      ],
      "execution_count": null,
      "outputs": []
    },
    {
      "cell_type": "code",
      "metadata": {
        "id": "i3vSlC3cp7_D",
        "colab": {
          "base_uri": "https://localhost:8080/"
        },
        "outputId": "5f0a3255-4b73-4d24-94b9-d22a439ce741"
      },
      "source": [
        "xgb.fit(train, y_train)"
      ],
      "execution_count": null,
      "outputs": [
        {
          "output_type": "execute_result",
          "data": {
            "text/plain": [
              "GridSearchCV(cv=5, error_score=nan,\n",
              "             estimator=XGBRegressor(base_score=0.5, booster='gbtree',\n",
              "                                    colsample_bylevel=1, colsample_bynode=1,\n",
              "                                    colsample_bytree=1, gamma=0,\n",
              "                                    importance_type='gain', learning_rate=0.1,\n",
              "                                    max_delta_step=0, max_depth=3,\n",
              "                                    min_child_weight=1, missing=None,\n",
              "                                    n_estimators=100, n_jobs=1, nthread=None,\n",
              "                                    objective='reg:linear', random_state=42,\n",
              "                                    reg_alpha=0, reg_lambda=1,\n",
              "                                    scale_pos_weight=1, seed=None, silent=True,\n",
              "                                    subsample=1, verbosity=1),\n",
              "             iid='deprecated', n_jobs=None,\n",
              "             param_grid={'max_depth': range(14, 16), 'max_features': ['sqrt'],\n",
              "                         'min_samples_leaf': range(1, 2),\n",
              "                         'min_samples_split': range(2, 4),\n",
              "                         'n_estimators': range(100, 150, 50)},\n",
              "             pre_dispatch='2*n_jobs', refit=True, return_train_score=False,\n",
              "             scoring=None, verbose=0)"
            ]
          },
          "metadata": {},
          "execution_count": 84
        }
      ]
    },
    {
      "cell_type": "code",
      "metadata": {
        "colab": {
          "base_uri": "https://localhost:8080/"
        },
        "id": "tgfUVM8Budfd",
        "outputId": "576811b3-a499-42ae-b376-ffb04695520c"
      },
      "source": [
        "XGBR.fit(train, y_train)"
      ],
      "execution_count": null,
      "outputs": [
        {
          "output_type": "execute_result",
          "data": {
            "text/plain": [
              "XGBRegressor(base_score=0.5, booster='gbtree', colsample_bylevel=1,\n",
              "             colsample_bynode=1, colsample_bytree=1, gamma=0,\n",
              "             importance_type='gain', learning_rate=0.1, max_delta_step=0,\n",
              "             max_depth=3, min_child_weight=1, missing=None, n_estimators=100,\n",
              "             n_jobs=1, nthread=None, objective='reg:linear', random_state=42,\n",
              "             reg_alpha=0, reg_lambda=1, scale_pos_weight=1, seed=None,\n",
              "             silent=True, subsample=1, verbosity=1)"
            ]
          },
          "metadata": {},
          "execution_count": 92
        }
      ]
    },
    {
      "cell_type": "code",
      "metadata": {
        "colab": {
          "base_uri": "https://localhost:8080/"
        },
        "id": "fLNraymb8IuR",
        "outputId": "508fb91c-6423-495b-844b-6c1004d2c00d"
      },
      "source": [
        "rfr.fit(train,y_train)"
      ],
      "execution_count": null,
      "outputs": [
        {
          "output_type": "execute_result",
          "data": {
            "text/plain": [
              "RandomForestRegressor(bootstrap=True, ccp_alpha=0.0, criterion='mse',\n",
              "                      max_depth=None, max_features='auto', max_leaf_nodes=None,\n",
              "                      max_samples=None, min_impurity_decrease=0.0,\n",
              "                      min_impurity_split=None, min_samples_leaf=1,\n",
              "                      min_samples_split=2, min_weight_fraction_leaf=0.0,\n",
              "                      n_estimators=100, n_jobs=None, oob_score=False,\n",
              "                      random_state=None, verbose=0, warm_start=False)"
            ]
          },
          "metadata": {},
          "execution_count": 93
        }
      ]
    },
    {
      "cell_type": "code",
      "metadata": {
        "id": "7MIfQNrEt0-q"
      },
      "source": [
        "test_length = 7000000\n",
        "full_train_length = 74018464\n",
        "test = pd.read_csv('drive/MyDrive/train.csv', skiprows=full_train_length-test_length, nrows=7000000)\n",
        "test.columns = df.columns"
      ],
      "execution_count": null,
      "outputs": []
    },
    {
      "cell_type": "code",
      "metadata": {
        "id": "ProAQnROvJ31",
        "colab": {
          "base_uri": "https://localhost:8080/",
          "height": 419
        },
        "outputId": "27524d4b-bae6-43bb-a6fd-4ebd0be65531"
      },
      "source": [
        "test"
      ],
      "execution_count": null,
      "outputs": [
        {
          "output_type": "execute_result",
          "data": {
            "text/html": [
              "<div>\n",
              "<style scoped>\n",
              "    .dataframe tbody tr th:only-of-type {\n",
              "        vertical-align: middle;\n",
              "    }\n",
              "\n",
              "    .dataframe tbody tr th {\n",
              "        vertical-align: top;\n",
              "    }\n",
              "\n",
              "    .dataframe thead th {\n",
              "        text-align: right;\n",
              "    }\n",
              "</style>\n",
              "<table border=\"1\" class=\"dataframe\">\n",
              "  <thead>\n",
              "    <tr style=\"text-align: right;\">\n",
              "      <th></th>\n",
              "      <th>Semana</th>\n",
              "      <th>Agencia_ID</th>\n",
              "      <th>Canal_ID</th>\n",
              "      <th>Ruta_SAK</th>\n",
              "      <th>Cliente_ID</th>\n",
              "      <th>Producto_ID</th>\n",
              "      <th>Venta_uni_hoy</th>\n",
              "      <th>Venta_hoy</th>\n",
              "      <th>Dev_uni_proxima</th>\n",
              "      <th>Dev_proxima</th>\n",
              "      <th>Demanda_uni_equil</th>\n",
              "    </tr>\n",
              "  </thead>\n",
              "  <tbody>\n",
              "    <tr>\n",
              "      <th>0</th>\n",
              "      <td>9</td>\n",
              "      <td>1340</td>\n",
              "      <td>1</td>\n",
              "      <td>1251</td>\n",
              "      <td>2116788</td>\n",
              "      <td>2233</td>\n",
              "      <td>4</td>\n",
              "      <td>79.76</td>\n",
              "      <td>0</td>\n",
              "      <td>0.0</td>\n",
              "      <td>4</td>\n",
              "    </tr>\n",
              "    <tr>\n",
              "      <th>1</th>\n",
              "      <td>9</td>\n",
              "      <td>1340</td>\n",
              "      <td>1</td>\n",
              "      <td>1251</td>\n",
              "      <td>2116788</td>\n",
              "      <td>2425</td>\n",
              "      <td>40</td>\n",
              "      <td>180.00</td>\n",
              "      <td>0</td>\n",
              "      <td>0.0</td>\n",
              "      <td>40</td>\n",
              "    </tr>\n",
              "    <tr>\n",
              "      <th>2</th>\n",
              "      <td>9</td>\n",
              "      <td>1340</td>\n",
              "      <td>1</td>\n",
              "      <td>1251</td>\n",
              "      <td>2116788</td>\n",
              "      <td>3631</td>\n",
              "      <td>4</td>\n",
              "      <td>65.40</td>\n",
              "      <td>0</td>\n",
              "      <td>0.0</td>\n",
              "      <td>4</td>\n",
              "    </tr>\n",
              "    <tr>\n",
              "      <th>3</th>\n",
              "      <td>9</td>\n",
              "      <td>1340</td>\n",
              "      <td>1</td>\n",
              "      <td>1251</td>\n",
              "      <td>2116788</td>\n",
              "      <td>4910</td>\n",
              "      <td>2</td>\n",
              "      <td>17.84</td>\n",
              "      <td>0</td>\n",
              "      <td>0.0</td>\n",
              "      <td>2</td>\n",
              "    </tr>\n",
              "    <tr>\n",
              "      <th>4</th>\n",
              "      <td>9</td>\n",
              "      <td>1340</td>\n",
              "      <td>1</td>\n",
              "      <td>1251</td>\n",
              "      <td>2120274</td>\n",
              "      <td>1160</td>\n",
              "      <td>1</td>\n",
              "      <td>18.86</td>\n",
              "      <td>0</td>\n",
              "      <td>0.0</td>\n",
              "      <td>1</td>\n",
              "    </tr>\n",
              "    <tr>\n",
              "      <th>...</th>\n",
              "      <td>...</td>\n",
              "      <td>...</td>\n",
              "      <td>...</td>\n",
              "      <td>...</td>\n",
              "      <td>...</td>\n",
              "      <td>...</td>\n",
              "      <td>...</td>\n",
              "      <td>...</td>\n",
              "      <td>...</td>\n",
              "      <td>...</td>\n",
              "      <td>...</td>\n",
              "    </tr>\n",
              "    <tr>\n",
              "      <th>6999995</th>\n",
              "      <td>9</td>\n",
              "      <td>22560</td>\n",
              "      <td>1</td>\n",
              "      <td>2820</td>\n",
              "      <td>2501378</td>\n",
              "      <td>30531</td>\n",
              "      <td>3</td>\n",
              "      <td>23.34</td>\n",
              "      <td>0</td>\n",
              "      <td>0.0</td>\n",
              "      <td>3</td>\n",
              "    </tr>\n",
              "    <tr>\n",
              "      <th>6999996</th>\n",
              "      <td>9</td>\n",
              "      <td>22560</td>\n",
              "      <td>1</td>\n",
              "      <td>2820</td>\n",
              "      <td>2501378</td>\n",
              "      <td>31309</td>\n",
              "      <td>3</td>\n",
              "      <td>18.75</td>\n",
              "      <td>0</td>\n",
              "      <td>0.0</td>\n",
              "      <td>3</td>\n",
              "    </tr>\n",
              "    <tr>\n",
              "      <th>6999997</th>\n",
              "      <td>9</td>\n",
              "      <td>22560</td>\n",
              "      <td>1</td>\n",
              "      <td>2820</td>\n",
              "      <td>2501378</td>\n",
              "      <td>31506</td>\n",
              "      <td>3</td>\n",
              "      <td>18.75</td>\n",
              "      <td>0</td>\n",
              "      <td>0.0</td>\n",
              "      <td>3</td>\n",
              "    </tr>\n",
              "    <tr>\n",
              "      <th>6999998</th>\n",
              "      <td>9</td>\n",
              "      <td>22560</td>\n",
              "      <td>1</td>\n",
              "      <td>2820</td>\n",
              "      <td>2501378</td>\n",
              "      <td>32933</td>\n",
              "      <td>2</td>\n",
              "      <td>14.08</td>\n",
              "      <td>0</td>\n",
              "      <td>0.0</td>\n",
              "      <td>2</td>\n",
              "    </tr>\n",
              "    <tr>\n",
              "      <th>6999999</th>\n",
              "      <td>9</td>\n",
              "      <td>22560</td>\n",
              "      <td>1</td>\n",
              "      <td>2820</td>\n",
              "      <td>2501378</td>\n",
              "      <td>32939</td>\n",
              "      <td>3</td>\n",
              "      <td>23.34</td>\n",
              "      <td>0</td>\n",
              "      <td>0.0</td>\n",
              "      <td>3</td>\n",
              "    </tr>\n",
              "  </tbody>\n",
              "</table>\n",
              "<p>7000000 rows × 11 columns</p>\n",
              "</div>"
            ],
            "text/plain": [
              "         Semana  Agencia_ID  ...  Dev_proxima  Demanda_uni_equil\n",
              "0             9        1340  ...          0.0                  4\n",
              "1             9        1340  ...          0.0                 40\n",
              "2             9        1340  ...          0.0                  4\n",
              "3             9        1340  ...          0.0                  2\n",
              "4             9        1340  ...          0.0                  1\n",
              "...         ...         ...  ...          ...                ...\n",
              "6999995       9       22560  ...          0.0                  3\n",
              "6999996       9       22560  ...          0.0                  3\n",
              "6999997       9       22560  ...          0.0                  3\n",
              "6999998       9       22560  ...          0.0                  2\n",
              "6999999       9       22560  ...          0.0                  3\n",
              "\n",
              "[7000000 rows x 11 columns]"
            ]
          },
          "metadata": {},
          "execution_count": 86
        }
      ]
    },
    {
      "cell_type": "code",
      "metadata": {
        "id": "_d7eAwMZtT_m"
      },
      "source": [
        "y_test = test['Demanda_uni_equil']"
      ],
      "execution_count": null,
      "outputs": []
    },
    {
      "cell_type": "markdown",
      "metadata": {
        "id": "IEtLiLS3svkB"
      },
      "source": [
        "#результаты"
      ]
    },
    {
      "cell_type": "code",
      "metadata": {
        "id": "UEyirOrKxYMf",
        "colab": {
          "base_uri": "https://localhost:8080/"
        },
        "outputId": "e265bcdc-b8f4-43c6-e66f-95c87d4c6367"
      },
      "source": [
        "mean_squared_log_error(y_true=y_test, y_pred=grid.predict(test.iloc[:, :-1]))**0.5 #RF"
      ],
      "execution_count": null,
      "outputs": [
        {
          "output_type": "execute_result",
          "data": {
            "text/plain": [
              "0.06532906417715155"
            ]
          },
          "metadata": {},
          "execution_count": 88
        }
      ]
    },
    {
      "cell_type": "code",
      "metadata": {
        "colab": {
          "base_uri": "https://localhost:8080/"
        },
        "id": "cTwQH71h8DvR",
        "outputId": "266af04c-c8c2-4840-862e-2e554283f066"
      },
      "source": [
        "mean_squared_log_error(y_true=y_test, y_pred=rfr.predict(test.iloc[:, :-1]))**0.5 #RF def"
      ],
      "execution_count": null,
      "outputs": [
        {
          "output_type": "execute_result",
          "data": {
            "text/plain": [
              "0.021074725602230455"
            ]
          },
          "metadata": {},
          "execution_count": 94
        }
      ]
    },
    {
      "cell_type": "code",
      "metadata": {
        "id": "7eFApI3vxrrj",
        "colab": {
          "base_uri": "https://localhost:8080/"
        },
        "outputId": "564e84c5-e8f0-4ced-8b43-c763892d6846"
      },
      "source": [
        "mean_squared_log_error(y_true=y_test, y_pred=np.abs(xgb.predict(test.iloc[:, :-1])))**0.5 #Обученный XGBRegressor через GridSearchCV"
      ],
      "execution_count": null,
      "outputs": [
        {
          "output_type": "execute_result",
          "data": {
            "text/plain": [
              "0.02062265349426293"
            ]
          },
          "metadata": {},
          "execution_count": 89
        }
      ]
    },
    {
      "cell_type": "code",
      "metadata": {
        "colab": {
          "base_uri": "https://localhost:8080/"
        },
        "id": "zHzjM1QUtOf_",
        "outputId": "3be81ed9-1cfd-4d36-f1e5-64607bebb790"
      },
      "source": [
        "mean_squared_log_error(y_true=y_test, y_pred=np.abs(XGBR.predict(test.iloc[:, :-1])))**0.5 #Обычный XGBRegressor"
      ],
      "execution_count": null,
      "outputs": [
        {
          "output_type": "execute_result",
          "data": {
            "text/plain": [
              "0.056718154860686"
            ]
          },
          "metadata": {},
          "execution_count": 91
        }
      ]
    },
    {
      "cell_type": "code",
      "metadata": {
        "id": "nXiCVjondbGc"
      },
      "source": [
        "df"
      ],
      "execution_count": null,
      "outputs": []
    }
  ]
}